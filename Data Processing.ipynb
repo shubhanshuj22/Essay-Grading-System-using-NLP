{
 "cells": [
  {
   "cell_type": "markdown",
   "metadata": {},
   "source": [
    "# Data Cleaning"
   ]
  },
  {
   "cell_type": "markdown",
   "metadata": {},
   "source": [
    "### Importing "
   ]
  },
  {
   "cell_type": "code",
   "execution_count": 2,
   "metadata": {},
   "outputs": [],
   "source": [
    "import pandas as pd #Mainly for dataFrame.\n",
    "import numpy as np #For numeric python like nD arrays.\n",
    "import matplotlib.pyplot as plt #for plotting graph.\n",
    "import language_tool_python #for grammer checking.\n",
    "from spellchecker import SpellChecker #For spell checking.\n",
    "import multiprocessing as mp #To process data fast.\n",
    "from sklearn.preprocessing import MinMaxScaler #Scale Score data in 1-100 range.\n",
    "import re"
   ]
  },
  {
   "cell_type": "markdown",
   "metadata": {},
   "source": [
    "### Reading dataset"
   ]
  },
  {
   "cell_type": "code",
   "execution_count": 2,
   "metadata": {},
   "outputs": [
    {
     "name": "stdout",
     "output_type": "stream",
     "text": [
      "<class 'pandas.core.frame.DataFrame'>\n",
      "RangeIndex: 12978 entries, 0 to 12977\n",
      "Data columns (total 28 columns):\n",
      " #   Column          Non-Null Count  Dtype  \n",
      "---  ------          --------------  -----  \n",
      " 0   essay_id        12978 non-null  int64  \n",
      " 1   essay_set       12978 non-null  int64  \n",
      " 2   essay           12978 non-null  object \n",
      " 3   rater1_domain1  12977 non-null  float64\n",
      " 4   rater2_domain1  12977 non-null  float64\n",
      " 5   rater3_domain1  128 non-null    float64\n",
      " 6   domain1_score   12977 non-null  float64\n",
      " 7   rater1_domain2  1800 non-null   float64\n",
      " 8   rater2_domain2  1800 non-null   float64\n",
      " 9   domain2_score   1800 non-null   float64\n",
      " 10  rater1_trait1   2292 non-null   float64\n",
      " 11  rater1_trait2   2292 non-null   float64\n",
      " 12  rater1_trait3   2292 non-null   float64\n",
      " 13  rater1_trait4   2292 non-null   float64\n",
      " 14  rater1_trait5   723 non-null    float64\n",
      " 15  rater1_trait6   723 non-null    float64\n",
      " 16  rater2_trait1   2292 non-null   float64\n",
      " 17  rater2_trait2   2292 non-null   float64\n",
      " 18  rater2_trait3   2292 non-null   float64\n",
      " 19  rater2_trait4   2292 non-null   float64\n",
      " 20  rater2_trait5   723 non-null    float64\n",
      " 21  rater2_trait6   723 non-null    float64\n",
      " 22  rater3_trait1   128 non-null    float64\n",
      " 23  rater3_trait2   128 non-null    float64\n",
      " 24  rater3_trait3   128 non-null    float64\n",
      " 25  rater3_trait4   128 non-null    float64\n",
      " 26  rater3_trait5   128 non-null    float64\n",
      " 27  rater3_trait6   128 non-null    float64\n",
      "dtypes: float64(25), int64(2), object(1)\n",
      "memory usage: 2.8+ MB\n"
     ]
    },
    {
     "data": {
      "text/plain": [
       "\"\\n    essay_id: A unique identifier for each individual student essay\\n    essay_set: 1-8, an id for each set of essays\\n    essay: The ascii text of a student's response\\n    rater1_domain1: Rater 1's domain 1 score; all essays have this #score out of 4-30\\n    rater2_domain1: Rater 2's domain 1 score; all essays have this #score out of 4-30\\n    rater3_domain1: Rater 3's domain 1 score; only some essays in set 8 have this.\\n    domain1_score: Resolved score between the raters; all essays have this #score out of 8-60\\n    rater1_domain2: Rater 1's domain 2 score; only essays in set 2 have this #out of 4\\n    rater2_domain2: Rater 2's domain 2 score; only essays in set 2 have this #out of 4\\n    domain2_score: Resolved score between the raters; only essays in set 2 have this #out of 4\\n    rater1_trait1 score - rater3_trait6 score: trait scores for sets 7-8\\n    rater1_trait1-rater1_trait4 have all 7 and 8 set rated \\n    rater2_trait1-rater2_trait4 have all 7 and 8 set rated   \\n\""
      ]
     },
     "execution_count": 2,
     "metadata": {},
     "output_type": "execute_result"
    }
   ],
   "source": [
    "pd.options.display.max_colwidth = 10000\n",
    "df = pd.read_excel(\"dataset.xlsx\")\n",
    "df.info()\n",
    "'''\n",
    "    essay_id: A unique identifier for each individual student essay\n",
    "    essay_set: 1-8, an id for each set of essays\n",
    "    essay: The ascii text of a student's response\n",
    "    rater1_domain1: Rater 1's domain 1 score; all essays have this #score out of 4-30\n",
    "    rater2_domain1: Rater 2's domain 1 score; all essays have this #score out of 4-30\n",
    "    rater3_domain1: Rater 3's domain 1 score; only some essays in set 8 have this.\n",
    "    domain1_score: Resolved score between the raters; all essays have this #score out of 8-60\n",
    "    rater1_domain2: Rater 1's domain 2 score; only essays in set 2 have this #out of 4\n",
    "    rater2_domain2: Rater 2's domain 2 score; only essays in set 2 have this #out of 4\n",
    "    domain2_score: Resolved score between the raters; only essays in set 2 have this #out of 4\n",
    "    rater1_trait1 score - rater3_trait6 score: trait scores for sets 7-8\n",
    "    rater1_trait1-rater1_trait4 have all 7 and 8 set rated \n",
    "    rater2_trait1-rater2_trait4 have all 7 and 8 set rated   \n",
    "'''"
   ]
  },
  {
   "cell_type": "code",
   "execution_count": 11,
   "metadata": {},
   "outputs": [],
   "source": [
    "scaler = MinMaxScaler(feature_range=(1,100))\n",
    "#Hence they are not depend on any other set so we can consider full column\n",
    "df[\"domain2_score\"] = scaler.fit_transform(df.domain2_score.values.reshape(-1, 1))\n",
    "df[\"rater1_trait1\"] = scaler.fit_transform(df.rater1_trait1.values.reshape(-1, 1))\n",
    "df[\"rater1_trait2\"] = scaler.fit_transform(df.rater1_trait2.values.reshape(-1, 1))\n",
    "df[\"rater1_trait3\"] = scaler.fit_transform(df.rater1_trait3.values.reshape(-1, 1))\n",
    "df[\"rater1_trait4\"] = scaler.fit_transform(df.rater1_trait4.values.reshape(-1, 1))\n",
    "df[\"rater2_trait1\"] = scaler.fit_transform(df.rater2_trait1.values.reshape(-1, 1))\n",
    "df[\"rater2_trait2\"] = scaler.fit_transform(df.rater2_trait2.values.reshape(-1, 1))\n",
    "df[\"rater2_trait3\"] = scaler.fit_transform(df.rater2_trait3.values.reshape(-1, 1))\n",
    "df[\"rater2_trait4\"] = scaler.fit_transform(df.rater2_trait4.values.reshape(-1, 1))\n",
    "\n",
    "#Domain1_Score is given for all eassy and for different set have different max score.\n",
    "df1 = pd.DataFrame()\n",
    "for i in range(1,9):\n",
    "    temp = pd.DataFrame(df[df[\"essay_set\"]==i])\n",
    "    temp[\"domain1_score\"] = scaler.fit_transform(temp.domain1_score.values.reshape(-1, 1))\n",
    "    if i==1:\n",
    "        df1 = temp\n",
    "    else:\n",
    "        df1 = df1.append(temp, ignore_index = True) "
   ]
  },
  {
   "cell_type": "code",
   "execution_count": 12,
   "metadata": {},
   "outputs": [
    {
     "name": "stderr",
     "output_type": "stream",
     "text": [
      "<ipython-input-12-87a75b3f89e9>:9: SettingWithCopyWarning: \n",
      "A value is trying to be set on a copy of a slice from a DataFrame.\n",
      "Try using .loc[row_indexer,col_indexer] = value instead\n",
      "\n",
      "See the caveats in the documentation: https://pandas.pydata.org/pandas-docs/stable/user_guide/indexing.html#returning-a-view-versus-a-copy\n",
      "  temp[\"Total_Score\"] = temp[\"domain1_score\"]\n",
      "<ipython-input-12-87a75b3f89e9>:12: SettingWithCopyWarning: \n",
      "A value is trying to be set on a copy of a slice from a DataFrame.\n",
      "Try using .loc[row_indexer,col_indexer] = value instead\n",
      "\n",
      "See the caveats in the documentation: https://pandas.pydata.org/pandas-docs/stable/user_guide/indexing.html#returning-a-view-versus-a-copy\n",
      "  temp[\"Total_Score\"] = (temp[\"domain1_score\"]+temp[\"domain2_score\"])/2\n",
      "<ipython-input-12-87a75b3f89e9>:9: SettingWithCopyWarning: \n",
      "A value is trying to be set on a copy of a slice from a DataFrame.\n",
      "Try using .loc[row_indexer,col_indexer] = value instead\n",
      "\n",
      "See the caveats in the documentation: https://pandas.pydata.org/pandas-docs/stable/user_guide/indexing.html#returning-a-view-versus-a-copy\n",
      "  temp[\"Total_Score\"] = temp[\"domain1_score\"]\n",
      "<ipython-input-12-87a75b3f89e9>:9: SettingWithCopyWarning: \n",
      "A value is trying to be set on a copy of a slice from a DataFrame.\n",
      "Try using .loc[row_indexer,col_indexer] = value instead\n",
      "\n",
      "See the caveats in the documentation: https://pandas.pydata.org/pandas-docs/stable/user_guide/indexing.html#returning-a-view-versus-a-copy\n",
      "  temp[\"Total_Score\"] = temp[\"domain1_score\"]\n",
      "<ipython-input-12-87a75b3f89e9>:9: SettingWithCopyWarning: \n",
      "A value is trying to be set on a copy of a slice from a DataFrame.\n",
      "Try using .loc[row_indexer,col_indexer] = value instead\n",
      "\n",
      "See the caveats in the documentation: https://pandas.pydata.org/pandas-docs/stable/user_guide/indexing.html#returning-a-view-versus-a-copy\n",
      "  temp[\"Total_Score\"] = temp[\"domain1_score\"]\n",
      "<ipython-input-12-87a75b3f89e9>:9: SettingWithCopyWarning: \n",
      "A value is trying to be set on a copy of a slice from a DataFrame.\n",
      "Try using .loc[row_indexer,col_indexer] = value instead\n",
      "\n",
      "See the caveats in the documentation: https://pandas.pydata.org/pandas-docs/stable/user_guide/indexing.html#returning-a-view-versus-a-copy\n",
      "  temp[\"Total_Score\"] = temp[\"domain1_score\"]\n",
      "<ipython-input-12-87a75b3f89e9>:15: SettingWithCopyWarning: \n",
      "A value is trying to be set on a copy of a slice from a DataFrame.\n",
      "Try using .loc[row_indexer,col_indexer] = value instead\n",
      "\n",
      "See the caveats in the documentation: https://pandas.pydata.org/pandas-docs/stable/user_guide/indexing.html#returning-a-view-versus-a-copy\n",
      "  temp[\"Total_Score\"] = sum(ls)/8\n",
      "<ipython-input-12-87a75b3f89e9>:15: SettingWithCopyWarning: \n",
      "A value is trying to be set on a copy of a slice from a DataFrame.\n",
      "Try using .loc[row_indexer,col_indexer] = value instead\n",
      "\n",
      "See the caveats in the documentation: https://pandas.pydata.org/pandas-docs/stable/user_guide/indexing.html#returning-a-view-versus-a-copy\n",
      "  temp[\"Total_Score\"] = sum(ls)/8\n"
     ]
    }
   ],
   "source": [
    "newCol = [\"essay_id\",\"essay_set\",\"essay\",\"domain1_score\",\"domain2_score\",\"rater1_trait1\",\"rater1_trait2\",\"rater1_trait3\",\"rater1_trait4\",\"rater2_trait1\",\"rater2_trait2\",\"rater2_trait3\",\"rater2_trait4\"]\n",
    "DS = df1[newCol]\n",
    "ncol = list(newCol)\n",
    "ncol.append(\"Total_Score\")\n",
    "newDf = pd.DataFrame()\n",
    "for i in range(1,9):\n",
    "    temp = DS[DS[\"essay_set\"]==i];\n",
    "    if i in [1,3,4,5,6]:\n",
    "        temp[\"Total_Score\"] = temp[\"domain1_score\"]\n",
    "    else:\n",
    "        if i==2:\n",
    "            temp[\"Total_Score\"] = (temp[\"domain1_score\"]+temp[\"domain2_score\"])/2\n",
    "        else:\n",
    "            ls = [temp[\"rater1_trait1\"],temp[\"rater1_trait2\"],temp[\"rater1_trait3\"],temp[\"rater1_trait4\"],temp[\"rater2_trait1\"],temp[\"rater2_trait2\"],temp[\"rater2_trait3\"],temp[\"rater2_trait4\"]]\n",
    "            temp[\"Total_Score\"] = sum(ls)/8\n",
    "    if i==1:\n",
    "        newDf = temp\n",
    "    else:\n",
    "        newDf = newDf.append(temp, ignore_index = True) \n"
   ]
  },
  {
   "cell_type": "code",
   "execution_count": 13,
   "metadata": {},
   "outputs": [],
   "source": [
    "# spellMistake = []\n",
    "# wordCount = []\n",
    "# sentenceCount = []\n",
    "# grammerMistake = []\n",
    "# spell = SpellChecker()\n",
    "# for i in range(len(newDf)):\n",
    "#     ls = set(newDf[\"essay\"][i].split())\n",
    "#     misspelled = spell.unknown(ls)\n",
    "#     spellMistake.append(len(misspelled))\n",
    "    \n",
    "#     wordCount.append(len(ls))\n",
    "#     #Number of Unique words;\n",
    "#     sentenceCount.append(len(re.split(\"\\.\\s+\", newDf[\"essay\"][i]))) \n",
    "#     #Will count sentence as dot-space split;\n",
    "  \n",
    "#     tool = language_tool_python.LanguageToolPublicAPI('en-US')\n",
    "#     error = tool.check(newDf[\"essay\"][i])\n",
    "#     grammerMistake.append(len(error))\n"
   ]
  },
  {
   "cell_type": "code",
   "execution_count": 14,
   "metadata": {},
   "outputs": [],
   "source": [
    "# saveDf = newDf\n",
    "# saveDf[\"wordCount\"] = wordCount\n",
    "# saveDf[\"sentenceCount\"] = sentenceCount\n",
    "# saveDf[\"spellMistake\"] = spellMistake\n",
    "# saveDf[\"grammerMistake\"] = grammerMistake\n",
    "# saveDf.to_csv(\"name.csv\")"
   ]
  },
  {
   "cell_type": "markdown",
   "metadata": {},
   "source": [
    "# Data Cleaning for NLP\n"
   ]
  },
  {
   "cell_type": "code",
   "execution_count": 52,
   "metadata": {},
   "outputs": [
    {
     "name": "stderr",
     "output_type": "stream",
     "text": [
      "[nltk_data] Downloading package stopwords to\n",
      "[nltk_data]     /home/shinchan/nltk_data...\n",
      "[nltk_data]   Package stopwords is already up-to-date!\n"
     ]
    }
   ],
   "source": [
    "import re  \n",
    "# Natural Language Tool Kit \n",
    "import nltk  \n",
    "# to remove stopword \n",
    "from nltk.corpus import stopwords \n",
    "# for Stemming propose  \n",
    "from nltk.stem.porter import PorterStemmer \n",
    "# Initialize empty array \n",
    "# to append clean text  \n",
    "corpus = []  \n",
    "\n",
    "word = pd.read_excel(\"word_contraction.xlsx\")\n",
    "ls1 = list(word[\"C1\"])\n",
    "ls2 = list(word[\"C2\"])\n",
    "df = pd.read_csv(\"Processed_DataSet.csv\")\n",
    "score = list(df[\"Total_Score\"])\n",
    "eassy = list(df[\"essay\"])\n",
    "\n",
    "# Replaceing had'nt with had not\n",
    "for i in range(len(eassy)):\n",
    "    s = eassy[i];\n",
    "    for j in range(len(ls1)):\n",
    "        s = s.replace(ls1[j],ls2[j])\n",
    "    eassy[i] = s;\n"
   ]
  },
  {
   "cell_type": "code",
   "execution_count": 53,
   "metadata": {},
   "outputs": [],
   "source": [
    "for i in range(len(eassy)):  \n",
    "      \n",
    "    # column : \"Review\", row ith \n",
    "    review = re.sub('[^a-zA-Z]', ' ', eassy[i])  \n",
    "      \n",
    "    # convert all cases to lower cases \n",
    "    review = review.lower()  \n",
    "      \n",
    "    # split to array(default delimiter is \" \") \n",
    "    review = review.split()  \n",
    "      \n",
    "    # creating PorterStemmer object to \n",
    "    # take main stem of each word \n",
    "    ps = PorterStemmer()  \n",
    "      \n",
    "    # loop for stemming each word \n",
    "    # in string array at ith row     \n",
    "    review = [ps.stem(word) for word in review \n",
    "                if not word in set(stopwords.words('english'))]  \n",
    "                  \n",
    "    # rejoin all string array elements \n",
    "    # to create back into a string \n",
    "    review = ' '.join(review)   \n",
    "      \n",
    "    # append each string to create \n",
    "    # array of clean text  \n",
    "    corpus.append(review)  \n",
    "newData = pd.DataFrame({\"Eassy\":corpus, \"Score\":score})\n",
    "# newData.to_csv(\"new_Data.csv\")"
   ]
  },
  {
   "cell_type": "code",
   "execution_count": null,
   "metadata": {},
   "outputs": [],
   "source": []
  },
  {
   "cell_type": "code",
   "execution_count": null,
   "metadata": {},
   "outputs": [],
   "source": []
  },
  {
   "cell_type": "code",
   "execution_count": null,
   "metadata": {},
   "outputs": [],
   "source": []
  },
  {
   "cell_type": "code",
   "execution_count": null,
   "metadata": {},
   "outputs": [],
   "source": []
  }
 ],
 "metadata": {
  "kernelspec": {
   "display_name": "Python 3",
   "language": "python",
   "name": "python3"
  },
  "language_info": {
   "codemirror_mode": {
    "name": "ipython",
    "version": 3
   },
   "file_extension": ".py",
   "mimetype": "text/x-python",
   "name": "python",
   "nbconvert_exporter": "python",
   "pygments_lexer": "ipython3",
   "version": "3.8.5"
  }
 },
 "nbformat": 4,
 "nbformat_minor": 4
}
